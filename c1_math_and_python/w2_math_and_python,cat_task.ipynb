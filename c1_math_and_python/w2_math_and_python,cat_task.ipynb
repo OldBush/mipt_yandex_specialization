{
 "cells": [
  {
   "cell_type": "code",
   "execution_count": 41,
   "metadata": {},
   "outputs": [],
   "source": [
    "import re\n",
    "import numpy as np\n",
    "\n",
    "from scipy.spatial.distance import cosine"
   ]
  },
  {
   "cell_type": "code",
   "execution_count": 36,
   "metadata": {},
   "outputs": [],
   "source": [
    "def prepare_words(file_path):\n",
    "    with open(file_path) as f:\n",
    "        lines = f.readlines()\n",
    "    \n",
    "    lines = [line.lower() for line in lines]\n",
    "    lines = [re.sub(\"\\n\", \"\", line) for line in lines]\n",
    "    words = [re.split('[^a-z]', line) for line in lines]\n",
    "    words = [list(filter(None, lst)) for lst in words]\n",
    "    \n",
    "    return words"
   ]
  },
  {
   "cell_type": "code",
   "execution_count": 50,
   "metadata": {},
   "outputs": [],
   "source": [
    "def get_words_dct(data):\n",
    "    all_words = []\n",
    "    for line in data:\n",
    "        for word in line:\n",
    "            all_words.append(word)\n",
    "    all_words = set(all_words)\n",
    "    words_dict = dict(zip([word for word in range(len(all_words))], all_words))\n",
    "    \n",
    "    return words_dict"
   ]
  },
  {
   "cell_type": "code",
   "execution_count": 115,
   "metadata": {},
   "outputs": [],
   "source": [
    "def get_matrix(lines, words):\n",
    "    matrix = np.zeros((len(lines), len(words)))\n",
    "    \n",
    "    for i in range(len(lines)):\n",
    "        for j in range(len(words)):\n",
    "            count_words = lines[i].count(words[j])\n",
    "            if count_words >= 1:\n",
    "                matrix[i,j] = 1\n",
    "            else:\n",
    "                matrix[i,j] = 0\n",
    "    return matrix"
   ]
  },
  {
   "cell_type": "code",
   "execution_count": 134,
   "metadata": {},
   "outputs": [],
   "source": [
    "def get_dist(index, matrix):\n",
    "    res = {}\n",
    "    for i in range(1, matrix.shape[0]):\n",
    "        res[i] = cosine(matrix[index], matrix[i])\n",
    "        \n",
    "    res = sorted(res.items(), key=lambda x: x[1])\n",
    "    ans_1, ans_2 = res[0][0], res[1][0]\n",
    "    return ans_1, ans_2"
   ]
  },
  {
   "cell_type": "code",
   "execution_count": 148,
   "metadata": {},
   "outputs": [
    {
     "name": "stdout",
     "output_type": "stream",
     "text": [
      "6\n",
      "4\n"
     ]
    }
   ],
   "source": [
    "if __name__ == \"__main__\":\n",
    "    file_path = r\"file_path\"\n",
    "    lines = prepare_words(file_path)\n",
    "    word_dict = get_words_dct(lines)\n",
    "    \n",
    "    words = list(word_dict.values())\n",
    "    matrix = get_matrix(lines, words)\n",
    "    \n",
    "    answer = get_dist(0, matrix)\n",
    "    answer_text = \"\"    \n",
    "    \n",
    "    for i in answer:\n",
    "        print(i)\n",
    "        answer_text += str(i) + \" \"\n",
    "        \n",
    "    answer_text = answer_text.rstrip()\n",
    "    with open(\"answear_1.txt\", \"w\") as f:\n",
    "        f.write(answer_text)"
   ]
  }
 ],
 "metadata": {
  "kernelspec": {
   "display_name": "Python 3",
   "language": "python",
   "name": "python3"
  },
  "language_info": {
   "codemirror_mode": {
    "name": "ipython",
    "version": 3
   },
   "file_extension": ".py",
   "mimetype": "text/x-python",
   "name": "python",
   "nbconvert_exporter": "python",
   "pygments_lexer": "ipython3",
   "version": "3.6.5"
  }
 },
 "nbformat": 4,
 "nbformat_minor": 2
}
